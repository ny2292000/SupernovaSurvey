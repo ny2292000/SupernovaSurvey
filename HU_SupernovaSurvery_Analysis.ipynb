{
 "cells": [
  {
   "cell_type": "code",
   "execution_count": null,
   "metadata": {
    "collapsed": false
   },
   "outputs": [],
   "source": [
    "%matplotlib inline\n",
    "import matplotlib\n",
    "import math\n",
    "import pandas as pd\n",
    "import numpy as np\n",
    "import matplotlib.pyplot as plt\n",
    "from scipy.optimize import fsolve\n",
    "from scipy.stats import chisquare\n",
    "from astropy.cosmology import Planck15\n",
    "from astropy import constants, units\n",
    "\n",
    "def d_planck15(z):\n",
    "    R0 = (constants.c)/(Planck15.H0)\n",
    "    d_L = (Planck15.luminosity_distance(z))/R0.to(units.Mpc)\n",
    "    plt.plot(z, d_L)\n",
    "    R0=R0.to(units.lyr)/1e9\n",
    "    return R0,d_L\n",
    "z = np.arange(0.0,1.5,0.01)\n",
    "R0_GLY,d_L=d_planck15(z)\n",
    "R0_GLY_CMB=R0_GLY\n",
    "print(R0_GLY)\n",
    "HubbleGRData=pd.DataFrame()\n",
    "HubbleGRData['z']=z\n",
    "HubbleGRData['d']=d_L\n",
    "\n",
    "# http://astronomy.swin.edu.au/cosmos/D/Distance+Modulus\n",
    "SCPData = pd.ExcelFile('Data SupernovaLBLgov/SCPUnionData.xlsx').parse('Sheet2')\n",
    "angle=math.pi/4\n",
    "# First let's create a set of lambda-shifts\n",
    "z = SCPData['redshift']"
   ]
  },
  {
   "cell_type": "code",
   "execution_count": null,
   "metadata": {
    "collapsed": false
   },
   "outputs": [],
   "source": [
    "H0=72*units.km/units.s/units.mpc\n",
    "H0_saved=H0\n",
    "R0Diff=R0_GLY-(constants.c/H0).to(units.lyr)\n",
    "R0_GLY=(constants.c/H0).to(units.lyr)\n",
    "R0_GLY"
   ]
  },
  {
   "cell_type": "code",
   "execution_count": null,
   "metadata": {
    "collapsed": false
   },
   "outputs": [],
   "source": [
    "H0=1\n",
    "c=1\n",
    "R0=1\n",
    "def alphaZ(x):\n",
    "    alpha = math.pi/4 - math.asin(1/math.sqrt(2)/(1+x))\n",
    "    return alpha\n",
    "\n",
    "def d_HU_epoch(R0,z):\n",
    "    alpha = alphaZ(z)\n",
    "    d_HU=R0*(1- math.cos(alpha)+math.sin(alpha))\n",
    "    return d_HU"
   ]
  },
  {
   "cell_type": "markdown",
   "metadata": {},
   "source": [
    "The distance d_HU is the arc on the outter circumference.  Later that distance will be converted on d_HU_corrected to reflect the point-to-point distance between our observation point and the position in the 4D Spatial manifold where the Supernova exploded.\n",
    "\n",
    "Remember that\n",
    "\n",
    "$$ \\frac {\\lambda_0}{\\lambda_{Obs}}  = \\frac{1}{1+z} = \\sqrt2 sin(\\frac{\\pi}{4}-\\alpha))$$\n",
    "\n",
    "So\n",
    " $$  \\alpha=  \\frac{\\pi}{4}- asin(\\frac{1}{\\sqrt2(1+z)})   )     $$\n",
    "\n",
    "\n",
    "so\n",
    "                    \n",
    "                    alpha = [math.pi/4 - math.asin(/math.sqrt(2)/(1+x)) for x in z]\n",
    "\n",
    "The scaling factor  $$G_f = \\frac {R_0}{R(t)} = \\frac {1}{(cos(\\alpha)-sin(\\alpha))}$$\n",
    "\n",
    "The value of d', the actual distance is derived from the triangle law\n",
    "\n",
    "$$\\frac{sin(\\alpha)}{d'} = \\frac{sin(\\frac{3\\pi}{4})}{R_0} =  \\frac{sin(\\frac{\\pi}{4} - \\alpha)}{R(t)}$$\n",
    "\n",
    "\n",
    "$$ {d'}=\\sqrt2 R_0 sin(\\alpha)= \\sqrt2 R_0 sin(\\frac{\\pi}{4}-asin(\\frac{1}{\\sqrt2(1+z)})) $$\n",
    "\n",
    "The distance between Universe epochs is what is traversed at the speed of light c on our expanding hypersphere and that is given by:\n",
    "\n",
    "$$ d_{epoch}(t) = \\frac {R_0-R(t)}{R_0} = 1 - \\frac{1}{G_f}= 1-\\frac {R(t)}{R_0} =1- cos(\\alpha)+sin(\\alpha)   $$\n",
    "\n",
    "This value is the one used on the predictions of the Hypergeometrical Universe.  This is the distance travelled by a light entity traveling at the speed of light c, during the time the Universe took to reach our epoch.  This is equivalent to the distance d on our epoch.  This is the appropriate mapping since in the HU model, light travels at $\\sqrt2 c$ within a 4D spatial manifold."
   ]
  },
  {
   "cell_type": "code",
   "execution_count": null,
   "metadata": {
    "collapsed": false
   },
   "outputs": [],
   "source": [
    "# All the light coming from supernovae maps initially to the cosmological region [0,pi/4]\n",
    "# no modifications done to initial data\n",
    "d_bar_measured= SCPData[\"d\"]/R0_GLY"
   ]
  },
  {
   "cell_type": "code",
   "execution_count": null,
   "metadata": {
    "collapsed": false
   },
   "outputs": [],
   "source": [
    "# Consider two points separated by d_HU on the current epoch (current hyperspherical hypersurface)\n",
    "\n",
    "# First let's calculate the distance at the current Hypersphere. This distance will be projected into inner hyperspheres\n",
    "# until a 45 degrees ray of light reaches the observer. That hypersphere will be defined by an R(t) and a d_HU_corrected.\n",
    "# Simple geometry will be used to derive both.\n",
    "\n",
    "alpha = [math.pi/4 - math.asin(1/math.sqrt(2)/(1+x)) for x in z]\n",
    "Gf=[1/(math.cos(x)-math.sin(x)) for x in alpha]\n",
    "\n",
    "# Calculate correction factors for measured distances\n",
    "correctingFactors=[Gf[i]**1.5 for i in range(len(z))]\n",
    "d_bar_measured_corrected=[d_bar_measured[i]/correctingFactors[i] for i in range(len(z))]\n"
   ]
  },
  {
   "cell_type": "code",
   "execution_count": null,
   "metadata": {
    "collapsed": true
   },
   "outputs": [],
   "source": [
    "# the 4D Line_of_sight distance d_prime is easily calculated as:\n",
    "d_prime_4DLineOfSight = [R0*math.sqrt(2)*math.sin(x) for x in alpha]\n",
    "# This distance (line of sight) is not relevant since the actual trajectory of light goes from layer to layer at 45 \n",
    "# degrees, thus traversing the same distance radially as tangentially.  The distance traversed tangentially is equal \n",
    "# to d_HU_corrected calculated by d_HU_epoch or distance to epoch.\n",
    "# Notice that all distances are derived from z -> alpha -> d_HU_epoch = R0(1-cos(alpha)+sin(alpha))\n",
    "# where R0 is always 1\n",
    "d_HU_corrected= [d_HU_epoch(1,x) for x in z]"
   ]
  },
  {
   "cell_type": "code",
   "execution_count": null,
   "metadata": {
    "collapsed": false
   },
   "outputs": [],
   "source": [
    "############################################\n",
    "# Notice that all distances are derived from z -> alpha -> d = R0(1-cos(alpha)+sin(alpha))\n",
    "# where R0 is always 1\n",
    "upperlim=2-math.pi/4\n",
    "bigz=[z*0.01 for z in range(2050)]\n",
    "d_HU_big_corrected=pd.DataFrame()\n",
    "\n",
    "d_HU_big_corrected['z']=[z for z in bigz]\n",
    "d_HU_big_corrected['d']= [d_HU_epoch(1,x) for x in bigz]\n",
    "\n",
    "d_HU_big_up_corrected=pd.DataFrame()\n",
    "d_HU_big_up_corrected['z']=[z for z in bigz]\n",
    "d_HU_big_up_corrected['d']=[2-x for x in d_HU_big_corrected.d]\n",
    "ind= (d_HU_big_up_corrected.d<=upperlim) #& (d_HU_big_up_corrected.d>1) \n",
    "d_HU_big_up_corrected['d']=[x for x in d_HU_big_corrected.d]\n",
    "d_HU_big_up_corrected=d_HU_big_up_corrected[ind]"
   ]
  },
  {
   "cell_type": "code",
   "execution_count": null,
   "metadata": {
    "collapsed": false
   },
   "outputs": [],
   "source": [
    "############################################\n",
    "plt.semilogy(bigz,d_HU_big_corrected.d,'k-', label='1stQuad HU Hubble Law')\n",
    "plt.semilogy(d_HU_big_up_corrected.z,d_HU_big_up_corrected.d,'r.', label='2ndQuad HU Hubble Law')\n",
    "plt.semilogy(z,d_bar_measured_corrected,'k-', label='SCPData')\n",
    "# plt.semilogy(z,d_prime_4DLineOfSight,'k+', label='4DLineOfSightDistance')\n",
    "\n",
    "\n",
    "plt.xlabel('Relative Lambda Shift z')\n",
    "plt.ylabel('Distance d as a Fraction of R0')\n",
    "plt.title('HU Predictions - z vs Distance')\n",
    "plt.grid(True)\n",
    "\n",
    "legend = plt.legend(loc='lower right', shadow=True, fontsize='small')\n",
    "\n",
    "# Put a nicer background color on the legend.\n",
    "legend.get_frame().set_facecolor('#00FFCC')\n",
    "\n",
    "plt.ylim(0.01,1)\n",
    "plt.xlim(0,10.55)\n",
    "plt.savefig(\"img/vcDistanceBothQuad.png\")\n",
    "plt.show()"
   ]
  },
  {
   "cell_type": "code",
   "execution_count": null,
   "metadata": {
    "collapsed": false
   },
   "outputs": [],
   "source": [
    "np.shape(bigz),np.shape(d_HU_big_corrected)"
   ]
  },
  {
   "cell_type": "code",
   "execution_count": null,
   "metadata": {
    "collapsed": false
   },
   "outputs": [],
   "source": [
    "############################################\n",
    "plt.semilogy(bigz,d_HU_big_corrected.d,'k-', label='1stQuad HU Hubble Law')\n",
    "plt.semilogy(z,d_bar_measured_corrected,'k-', label='SCPData')\n",
    "\n",
    "plt.xlabel('Relative Lambda Shift z')\n",
    "plt.ylabel('Distance d as a Fraction of R0')\n",
    "plt.title('HU Predictions - z vs Distance')\n",
    "plt.grid(True)\n",
    "\n",
    "legend = plt.legend(loc='lower right', shadow=True, fontsize='small')\n",
    "\n",
    "# Put a nicer background color on the legend.\n",
    "legend.get_frame().set_facecolor('#00FFCC')\n",
    "plt.ylim(0.01,1)\n",
    "plt.xlim(0,1.5)\n",
    "plt.savefig(\"img/vcDistancesmall.png\")\n",
    "plt.show()"
   ]
  },
  {
   "cell_type": "code",
   "execution_count": null,
   "metadata": {
    "collapsed": false
   },
   "outputs": [],
   "source": [
    "max(d_bar_measured_corrected)"
   ]
  },
  {
   "cell_type": "code",
   "execution_count": null,
   "metadata": {
    "collapsed": false
   },
   "outputs": [],
   "source": [
    "plt.plot(HubbleGRData.z,HubbleGRData.d,'k:', label='Friedmann-Lemaitre Fitting')\n",
    "plt.plot(z,d_bar_measured,'k+', label='SCPData')\n",
    "plt.plot(z,d_HU_corrected,'k.', label='HU Hubble Law')\n",
    "# Correcting Stellar Candles for Gravitational R(t) dependence\n",
    "# The Absolute Luminosity should scale down with G ~ (R0/R(t))^(3/2)\n",
    "\n",
    "plt.plot(z,d_bar_measured_corrected,'k-', label='Normalized SCPData Epoch-Corrected')\n",
    "\n",
    "plt.xlabel('Relative Lambda Shift z')\n",
    "plt.ylabel('Distance d as a Fraction of R0')\n",
    "plt.title('z vs Distance vs')\n",
    "plt.grid(True)\n",
    "\n",
    "legend = plt.legend(loc='upper left', shadow=True, fontsize='small')\n",
    "\n",
    "# Put a nicer background color on the legend.\n",
    "legend.get_frame().set_facecolor('#00FFCC')\n",
    "# plt.ylim(0,2.4)\n",
    "plt.xlim(0,1.4)\n",
    "plt.savefig(\"img/vcDistance.png\")\n",
    "plt.show()"
   ]
  },
  {
   "cell_type": "code",
   "execution_count": null,
   "metadata": {
    "collapsed": false
   },
   "outputs": [],
   "source": [
    "relativeD_Error=[d_bar_measured_corrected[i]/d_HU_corrected[i]-1 for i in range(len(d_HU_corrected))]\n",
    "\n",
    "plt.plot(z,relativeD_Error,'k-', label='Relative Distance Epoch-Corrected Error')\n",
    "plt.xlabel('RedShift z')\n",
    "plt.ylabel('Relative Error as a Fraction of distance')\n",
    "plt.title('z vs Distance error')\n",
    "plt.grid(True)\n",
    "\n",
    "legend = plt.legend(loc='upper left', shadow=True, fontsize='small')\n",
    "\n",
    "# Put a nicer background color on the legend.\n",
    "legend.get_frame().set_facecolor('#00FFCC')\n",
    "plt.ylim(-0.6,0.6)\n",
    "plt.xlim(0,1.5)\n",
    "plt.savefig(\"img/variance.png\")\n",
    "plt.show()"
   ]
  },
  {
   "cell_type": "code",
   "execution_count": null,
   "metadata": {
    "collapsed": false
   },
   "outputs": [],
   "source": [
    "plt.semilogy(z,d_bar_measured_corrected,'k-', label='Epoch-Corrected Distance ')\n",
    "plt.semilogy(z,d_HU_corrected,'k-', label='HU Distance Prediction')\n",
    "\n",
    "plt.xlabel('RedShift z')\n",
    "plt.ylabel('Fractional Distance (fraction of R0)')\n",
    "plt.title('z vs Distance for Supernova Survey Data')\n",
    "plt.grid(True)\n",
    "\n",
    "legend = plt.legend(loc='lower right', shadow=True, fontsize='small')\n",
    "\n",
    "# Put a nicer background color on the legend.\n",
    "legend.get_frame().set_facecolor('#00FFCC')\n",
    "plt.ylim(0,1)\n",
    "plt.xlim(0,1.4)\n",
    "plt.savefig(\"img/comparison.png\")\n",
    "plt.show()"
   ]
  },
  {
   "cell_type": "code",
   "execution_count": null,
   "metadata": {
    "collapsed": false
   },
   "outputs": [],
   "source": [
    "chisquare(relativeD_Error)"
   ]
  },
  {
   "cell_type": "markdown",
   "metadata": {},
   "source": [
    "The best fitting R0 for the Supernova dataset is for H0=72, that corresponds to R0=13.58.  The best for CMB is R0=14.43, so there is a difference of 0.85 Billion Light Years difference between these two measurements!!!"
   ]
  },
  {
   "cell_type": "markdown",
   "metadata": {},
   "source": [
    "\n",
    "\n",
    "<h1>The segment below is related to the Baryonic Acoustic Oscillations. I wanted to see how my theory would deal with that. This is work in progress</h1>\n",
    "\n",
    "<br>\n",
    "<br>"
   ]
  },
  {
   "cell_type": "code",
   "execution_count": null,
   "metadata": {
    "collapsed": false
   },
   "outputs": [],
   "source": [
    "chisquare(d_HU_corrected, d_bar_measured_corrected)"
   ]
  },
  {
   "cell_type": "code",
   "execution_count": null,
   "metadata": {
    "collapsed": false
   },
   "outputs": [],
   "source": [
    "dbh=0.5*1.6737236e-27/(0.191753e-15)**3*units.kg/(units.m)**3\n",
    "# dbh=6e18*units.kg/(units.m)**3\n",
    "dbh"
   ]
  },
  {
   "cell_type": "code",
   "execution_count": null,
   "metadata": {
    "collapsed": false
   },
   "outputs": [],
   "source": [
    "dneutron=0.5*1.6737236e-27/(0.6e-15)**3*units.kg/(units.m)**3\n",
    "# dneutron=4e17*units.kg/(units.m)**3\n",
    "dneutron"
   ]
  },
  {
   "cell_type": "code",
   "execution_count": null,
   "metadata": {
    "collapsed": false
   },
   "outputs": [],
   "source": [
    "criticalDensity=9.47E-27*units.kg/(units.m)**3/25\n",
    "criticalDensity"
   ]
  },
  {
   "cell_type": "code",
   "execution_count": null,
   "metadata": {
    "collapsed": false
   },
   "outputs": [],
   "source": [
    "nlayers=2e12\n",
    "initialthickness = 0.19e-15*units.m\n",
    "thickness = 2e12*initialthickness\n",
    "Dilution=dbh/criticalDensity*nlayers\n",
    "Dilution,thickness.to(units.mm)"
   ]
  },
  {
   "cell_type": "code",
   "execution_count": null,
   "metadata": {
    "collapsed": false
   },
   "outputs": [],
   "source": [
    "initialD0=4e13*dbh\n",
    "initialD0"
   ]
  },
  {
   "cell_type": "code",
   "execution_count": null,
   "metadata": {
    "collapsed": false
   },
   "outputs": [],
   "source": [
    "Expansion=Dilution**(1/3)\n",
    "Expansion"
   ]
  },
  {
   "cell_type": "code",
   "execution_count": null,
   "metadata": {
    "collapsed": false
   },
   "outputs": [],
   "source": [
    "TimeOfUniverse=13.58*1E9*365*24*3600*units.s\n",
    "TimeOfTheUniverseCBM=14.43*1E9*365*24*3600*units.s\n",
    "diffCBM=TimeOfTheUniverseCBM-TimeOfUniverse\n",
    "TimeOfUniverse,diffCBM.to(units.yr)"
   ]
  },
  {
   "cell_type": "code",
   "execution_count": null,
   "metadata": {
    "collapsed": false
   },
   "outputs": [],
   "source": [
    "InitialTime=TimeOfUniverse/Expansion\n",
    "InitialTime.to(units.ms)\n",
    "RelaxedTime=nlayers*InitialTime\n",
    "cooling=diffCBM/InitialTime\n",
    "print(InitialTime.to(units.ms),RelaxedTime.to(units.yr),diffCBM.to(units.yr),cooling.round(0))"
   ]
  },
  {
   "cell_type": "code",
   "execution_count": null,
   "metadata": {
    "collapsed": false
   },
   "outputs": [],
   "source": [
    "InitialRadius=constants.c*InitialTime\n",
    "InitialRadius.to(units.km)"
   ]
  },
  {
   "cell_type": "code",
   "execution_count": null,
   "metadata": {
    "collapsed": false
   },
   "outputs": [],
   "source": [
    "Lambda=constants.c*units.s/111101\n",
    "Lambda.to(units.km)\n",
    "G=6.67408E-11*units.m**3/units.kg/units.s**2\n",
    "G,dbh"
   ]
  },
  {
   "cell_type": "code",
   "execution_count": null,
   "metadata": {
    "collapsed": false
   },
   "outputs": [],
   "source": [
    "f=G*dbh/4/math.pi*Expansion\n",
    "f"
   ]
  },
  {
   "cell_type": "code",
   "execution_count": null,
   "metadata": {
    "collapsed": false
   },
   "outputs": [],
   "source": [
    "fractionalLambda=Lambda/InitialRadius*180/math.pi/0.1\n",
    "print('initialLambda=',fractionalLambda)\n"
   ]
  },
  {
   "cell_type": "code",
   "execution_count": null,
   "metadata": {
    "collapsed": false
   },
   "outputs": [],
   "source": [
    "zOneRadian=-1/math.sin(math.pi/4-1)-1\n",
    "print(zOneRadian)"
   ]
  },
  {
   "cell_type": "code",
   "execution_count": null,
   "metadata": {
    "collapsed": false
   },
   "outputs": [],
   "source": [
    "print(H0_saved,R0_GLY,R0_GLY_CMB, R0Diff)"
   ]
  }
 ],
 "metadata": {
  "anaconda-cloud": {},
  "kernelspec": {
   "display_name": "Python [default]",
   "language": "python",
   "name": "python3"
  },
  "language_info": {
   "codemirror_mode": {
    "name": "ipython",
    "version": 3
   },
   "file_extension": ".py",
   "mimetype": "text/x-python",
   "name": "python",
   "nbconvert_exporter": "python",
   "pygments_lexer": "ipython3",
   "version": "3.5.2"
  }
 },
 "nbformat": 4,
 "nbformat_minor": 0
}
