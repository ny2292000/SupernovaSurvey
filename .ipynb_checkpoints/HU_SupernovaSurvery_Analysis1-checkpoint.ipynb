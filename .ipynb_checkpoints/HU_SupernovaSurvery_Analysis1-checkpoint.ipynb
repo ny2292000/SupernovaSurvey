{
 "cells": [
  {
   "cell_type": "markdown",
   "metadata": {},
   "source": [
    "# Hypergeometrical Universe Theory"
   ]
  },
  {
   "cell_type": "code",
   "execution_count": 1,
   "metadata": {
    "collapsed": false,
    "nbpresent": {
     "id": "d395cbbb-ffde-4b9f-a2b5-acfeb8303524"
    }
   },
   "outputs": [
    {
     "name": "stdout",
     "output_type": "stream",
     "text": [
      "14.43448806721477 lyr\n"
     ]
    },
    {
     "data": {
      "image/png": "[encoded data removed]",
      "text/plain": [
       "<matplotlib.figure.Figure at 0x108cb73c8>"
      ]
     },
     "metadata": {},
     "output_type": "display_data"
    }
   ],
   "source": [
    "%matplotlib inline\n",
    "import matplotlib\n",
    "import math\n",
    "import pandas as pd\n",
    "import numpy as np\n",
    "import matplotlib.pyplot as plt\n",
    "from scipy.optimize import fsolve\n",
    "from scipy.stats import chisquare\n",
    "from astropy.cosmology import Planck15\n",
    "from astropy import constants, units\n",
    "\n",
    "def d_planck15(z):\n",
    "    R0 = (constants.c)/(Planck15.H0)\n",
    "    d_L = (Planck15.luminosity_distance(z))/R0.to(units.Mpc)\n",
    "    plt.plot(z, d_L)\n",
    "    R0=R0.to(units.lyr)/1e9\n",
    "    return R0,d_L\n",
    "z = np.arange(0.0,1.5,0.01)\n",
    "R0_GLY,d_L=d_planck15(z)\n",
    "R0_GLY_CMB=R0_GLY\n",
    "print(R0_GLY)\n",
    "HubbleGRData=pd.DataFrame()\n",
    "HubbleGRData['z']=z\n",
    "HubbleGRData['d']=d_L\n",
    "\n",
    "# http://astronomy.swin.edu.au/cosmos/D/Distance+Modulus\n",
    "SCPData = pd.ExcelFile('Data SupernovaLBLgov/SCPUnionData.xlsx').parse('Sheet2')\n",
    "angle=math.pi/4\n",
    "# First let's create a set of lambda-shifts\n",
    "z = SCPData['redshift']"
   ]
  },
  {
   "cell_type": "code",
   "execution_count": 2,
   "metadata": {
    "collapsed": false,
    "nbpresent": {
     "id": "2ab0a58d-03c1-4ae3-8f04-6ed5d589ef69"
    }
   },
   "outputs": [
    {
     "data": {
      "text/latex": [
       "$13.580448 \\; \\mathrm{lyr}$"
      ],
      "text/plain": [
       "<Quantity 13.580447523237893 lyr>"
      ]
     },
     "execution_count": 2,
     "metadata": {},
     "output_type": "execute_result"
    }
   ],
   "source": [
    "H0=72*units.km/units.s/units.mpc\n",
    "H0_saved=H0\n",
    "R0Diff=R0_GLY-(constants.c/H0).to(units.lyr)\n",
    "R0_GLY=(constants.c/H0).to(units.lyr)\n",
    "R0_GLY"
   ]
  },
  {
   "cell_type": "code",
   "execution_count": 3,
   "metadata": {
    "collapsed": false,
    "nbpresent": {
     "id": "30973531-10ee-4040-a257-e152ba339cd7"
    }
   },
   "outputs": [],
   "source": [
    "H0=1\n",
    "c=1\n",
    "R0=1\n",
    "def alphaZ(x):\n",
    "    alpha = math.pi/4 - math.asin(1/math.sqrt(2)/(1+x))\n",
    "    return alpha\n",
    "\n",
    "def d_HU_epoch(R0,z):\n",
    "    alpha = alphaZ(z)\n",
    "    d_HU=R0*(1- math.cos(alpha)+math.sin(alpha))\n",
    "    return d_HU"
   ]
  },
  {
   "cell_type": "markdown",
   "metadata": {
    "nbpresent": {
     "id": "f630ab50-d910-4aa7-a57f-9fb5adf309e6"
    }
   },
   "source": [
    "The distance d_HU is the arc on the outter circumference.  Later that distance will be converted on d_HU_corrected to reflect the point-to-point distance between our observation point and the position in the 4D Spatial manifold where the Supernova exploded.\n",
    "\n",
    "Remember that\n",
    "\n",
    "$$ \\frac {\\lambda_0}{\\lambda_{Obs}}  = \\frac{1}{1+z} = \\sqrt2 sin(\\frac{\\pi}{4}-\\alpha))$$\n",
    "\n",
    "So\n",
    " $$  \\alpha=  \\frac{\\pi}{4}- asin(\\frac{1}{\\sqrt2(1+z)})   )     $$\n",
    "\n",
    "\n",
    "so\n",
    "                    \n",
    "                    alpha = [math.pi/4 - math.asin(/math.sqrt(2)/(1+x)) for x in z]\n",
    "\n",
    "The scaling factor  $$G_f = \\frac {R_0}{R(t)} = \\frac {1}{(cos(\\alpha)-sin(\\alpha))}$$\n",
    "\n",
    "The value of d', the actual distance is derived from the triangle law\n",
    "\n",
    "$$\\frac{sin(\\alpha)}{d'} = \\frac{sin(\\frac{3\\pi}{4})}{R_0} =  \\frac{sin(\\frac{\\pi}{4} - \\alpha)}{R(t)}$$\n",
    "\n",
    "\n",
    "$$ {d'}=\\sqrt2 R_0 sin(\\alpha)= \\sqrt2 R_0 sin(\\frac{\\pi}{4}-asin(\\frac{1}{\\sqrt2(1+z)})) $$\n",
    "\n",
    "The distance between Universe epochs is what is traversed at the speed of light c on our expanding hypersphere and that is given by:\n",
    "\n",
    "$$ d_{epoch}(t) = \\frac {R_0-R(t)}{R_0} = 1 - \\frac{1}{G_f}= 1-\\frac {R(t)}{R_0} =1- cos(\\alpha)+sin(\\alpha)   $$\n",
    "\n",
    "This value is the one used on the predictions of the Hypergeometrical Universe.  This is the distance travelled by a light entity traveling at the speed of light c, during the time the Universe took to reach our epoch.  This is equivalent to the distance d on our epoch.  This is the appropriate mapping since in the HU model, light travels at $\\sqrt2 c$ within a 4D spatial manifold."
   ]
  },
  {
   "cell_type": "code",
   "execution_count": 4,
   "metadata": {
    "collapsed": false,
    "nbpresent": {
     "id": "e8aef617-b3cf-4603-a565-d6dcb968ec80"
    }
   },
   "outputs": [],
   "source": [
    "# All the light coming from supernovae maps initially to the cosmological region [0,pi/4]\n",
    "# no modifications done to initial data\n",
    "d_bar_measured= SCPData[\"d\"]/R0_GLY"
   ]
  },
  {
   "cell_type": "code",
   "execution_count": 5,
   "metadata": {
    "collapsed": false,
    "nbpresent": {
     "id": "2482d190-2878-44b4-a28f-1f5375d97d41"
    }
   },
   "outputs": [],
   "source": [
    "# Consider two points separated by d_HU on the current epoch (current hyperspherical hypersurface)\n",
    "\n",
    "# First let's calculate the distance at the current Hypersphere. This distance will be projected into inner hyperspheres\n",
    "# until a 45 degrees ray of light reaches the observer. That hypersphere will be defined by an R(t) and a d_HU_corrected.\n",
    "# Simple geometry will be used to derive both.\n",
    "\n",
    "alpha = [math.pi/4 - math.asin(1/math.sqrt(2)/(1+x)) for x in z]\n",
    "Gf=[1/(math.cos(x)-math.sin(x)) for x in alpha]\n",
    "\n",
    "# Calculate correction factors for measured distances\n",
    "correctingFactors=[Gf[i]**1.5 for i in range(len(z))]\n",
    "d_bar_measured_corrected=[d_bar_measured[i]/correctingFactors[i] for i in range(len(z))]\n"
   ]
  },
  {
   "cell_type": "code",
   "execution_count": 6,
   "metadata": {
    "collapsed": true,
    "nbpresent": {
     "id": "20902759-f555-4e60-ac82-97cb66ed5eb7"
    }
   },
   "outputs": [],
   "source": [
    "# the 4D Line_of_sight distance d_prime is easily calculated as:\n",
    "d_prime_4DLineOfSight = [R0*math.sqrt(2)*math.sin(x) for x in alpha]\n",
    "# This distance (line of sight) is not relevant since the actual trajectory of light goes from layer to layer at 45 \n",
    "# degrees, thus traversing the same distance radially as tangentially.  The distance traversed tangentially is equal \n",
    "# to d_HU_corrected calculated by d_HU_epoch or distance to epoch.\n",
    "# Notice that all distances are derived from z -> alpha -> d_HU_epoch = R0(1-cos(alpha)+sin(alpha))\n",
    "# where R0 is always 1\n",
    "d_HU_corrected= [d_HU_epoch(1,x) for x in z]"
   ]
  },
  {
   "cell_type": "code",
   "execution_count": 7,
   "metadata": {
    "collapsed": false,
    "nbpresent": {
     "id": "e1cf92b5-0ece-4503-bca2-a75356841cc0"
    }
   },
   "outputs": [],
   "source": [
    "############################################\n",
    "# Notice that all distances are derived from z -> alpha -> d = R0(1-cos(alpha)+sin(alpha))\n",
    "# where R0 is always 1\n",
    "upperlim=2-math.pi/4\n",
    "bigz=[z*0.01 for z in range(2050)]\n",
    "d_HU_big_corrected=pd.DataFrame()\n",
    "\n",
    "d_HU_big_corrected['z']=[z for z in bigz]\n",
    "d_HU_big_corrected['d']= [d_HU_epoch(1,x) for x in bigz]\n",
    "\n",
    "d_HU_big_up_corrected=pd.DataFrame()\n",
    "d_HU_big_up_corrected['z']=[z for z in bigz]\n",
    "d_HU_big_up_corrected['d']=[2-x for x in d_HU_big_corrected.d]\n",
    "ind= (d_HU_big_up_corrected.d<=upperlim) #& (d_HU_big_up_corrected.d>1) \n",
    "d_HU_big_up_corrected['d']=[x for x in d_HU_big_corrected.d]\n",
    "d_HU_big_up_corrected=d_HU_big_up_corrected[ind]"
   ]
  },
  {
   "cell_type": "code",
   "execution_count": 8,
   "metadata": {
    "collapsed": false,
    "nbpresent": {
     "id": "c0414f56-f596-473b-b34b-3ec067adfbee"
    }
   },
   "outputs": [
    {
     "data": {
      "image/png": "[encoded data removed]",
      "text/plain": [
       "<matplotlib.figure.Figure at 0x103e77cc0>"
      ]
     },
     "metadata": {},
     "output_type": "display_data"
    }
   ],
   "source": [
    "############################################\n",
    "plt.semilogy(bigz,d_HU_big_corrected.d,'k-', label='1stQuad HU Hubble Law')\n",
    "plt.semilogy(d_HU_big_up_corrected.z,d_HU_big_up_corrected.d,'r.', label='2ndQuad HU Hubble Law')\n",
    "plt.semilogy(z,d_bar_measured_corrected,'k-', label='SCPData')\n",
    "# plt.semilogy(z,d_prime_4DLineOfSight,'k+', label='4DLineOfSightDistance')\n",
    "\n",
    "\n",
    "plt.xlabel('Relative Lambda Shift z')\n",
    "plt.ylabel('Distance d as a Fraction of R0')\n",
    "plt.title('HU Predictions - z vs Distance')\n",
    "plt.grid(True)\n",
    "\n",
    "legend = plt.legend(loc='lower right', shadow=True, fontsize='small')\n",
    "\n",
    "# Put a nicer background color on the legend.\n",
    "legend.get_frame().set_facecolor('#00FFCC')\n",
    "\n",
    "plt.ylim(0.01,1)\n",
    "plt.xlim(0,10.55)\n",
    "plt.savefig(\"img/vcDistanceBothQuad.png\")\n",
    "plt.show()"
   ]
  },
  {
   "cell_type": "code",
   "execution_count": 9,
   "metadata": {
    "collapsed": false,
    "nbpresent": {
     "id": "73e372ac-d371-4e68-9c38-9e8efa5425c3"
    }
   },
   "outputs": [
    {
     "data": {
      "text/plain": [
       "((2050,), (2050, 2))"
      ]
     },
     "execution_count": 9,
     "metadata": {},
     "output_type": "execute_result"
    }
   ],
   "source": [
    "np.shape(bigz),np.shape(d_HU_big_corrected)"
   ]
  },
  {
   "cell_type": "code",
   "execution_count": 10,
   "metadata": {
    "collapsed": false,
    "nbpresent": {
     "id": "7281eea7-35a3-4544-8cf0-698613004dbd"
    }
   },
   "outputs": [
    {
     "data": {
      "image/png": "[encoded data removed]",
      "text/plain": [
       "<matplotlib.figure.Figure at 0x10a547208>"
      ]
     },
     "metadata": {},
     "output_type": "display_data"
    }
   ],
   "source": [
    "############################################\n",
    "plt.semilogy(bigz,d_HU_big_corrected.d,'k-', label='1stQuad HU Hubble Law')\n",
    "plt.semilogy(z,d_bar_measured_corrected,'k-', label='SCPData')\n",
    "\n",
    "plt.xlabel('Relative Lambda Shift z')\n",
    "plt.ylabel('Distance d as a Fraction of R0')\n",
    "plt.title('HU Predictions - z vs Distance')\n",
    "plt.grid(True)\n",
    "\n",
    "legend = plt.legend(loc='lower right', shadow=True, fontsize='small')\n",
    "\n",
    "# Put a nicer background color on the legend.\n",
    "legend.get_frame().set_facecolor('#00FFCC')\n",
    "plt.ylim(0.01,1)\n",
    "plt.xlim(0,1.5)\n",
    "plt.savefig(\"img/vcDistancesmall.png\")\n",
    "plt.show()"
   ]
  },
  {
   "cell_type": "code",
   "execution_count": 11,
   "metadata": {
    "collapsed": false,
    "nbpresent": {
     "id": "69f20c4d-fa6f-4fa7-857f-c151bb5f5eb8"
    }
   },
   "outputs": [
    {
     "data": {
      "text/plain": [
       "0.71677745734501652"
      ]
     },
     "execution_count": 11,
     "metadata": {},
     "output_type": "execute_result"
    }
   ],
   "source": [
    "max(d_bar_measured_corrected)"
   ]
  },
  {
   "cell_type": "code",
   "execution_count": 12,
   "metadata": {
    "collapsed": false,
    "nbpresent": {
     "id": "1da8d676-084d-4f6d-8b2c-0a3fac2d885e"
    }
   },
   "outputs": [
    {
     "data": {
      "image/png": "[encoded data removed]",
      "text/plain": [
       "<matplotlib.figure.Figure at 0x10a516c18>"
      ]
     },
     "metadata": {},
     "output_type": "display_data"
    }
   ],
   "source": [
    "plt.plot(HubbleGRData.z,HubbleGRData.d,'k:', label='Friedmann-Lemaitre Fitting')\n",
    "plt.plot(z,d_bar_measured,'k+', label='SCPData')\n",
    "plt.plot(z,d_HU_corrected,'k.', label='HU Hubble Law')\n",
    "# Correcting Stellar Candles for Gravitational R(t) dependence\n",
    "# The Absolute Luminosity should scale down with G ~ (R0/R(t))^(3/2)\n",
    "\n",
    "plt.plot(z,d_bar_measured_corrected,'k-', label='Normalized SCPData Epoch-Corrected')\n",
    "\n",
    "plt.xlabel('Relative Lambda Shift z')\n",
    "plt.ylabel('Distance d as a Fraction of R0')\n",
    "plt.title('z vs Distance vs')\n",
    "plt.grid(True)\n",
    "\n",
    "legend = plt.legend(loc='upper left', shadow=True, fontsize='small')\n",
    "\n",
    "# Put a nicer background color on the legend.\n",
    "legend.get_frame().set_facecolor('#00FFCC')\n",
    "# plt.ylim(0,2.4)\n",
    "plt.xlim(0,1.4)\n",
    "plt.savefig(\"img/vcDistance.png\")\n",
    "plt.show()"
   ]
  },
  {
   "cell_type": "code",
   "execution_count": 13,
   "metadata": {
    "collapsed": false,
    "nbpresent": {
     "id": "ffdfed9f-299d-4b9a-973a-7fb1f268f151"
    }
   },
   "outputs": [
    {
     "data": {
      "image/png": "[encoded data removed]",
      "text/plain": [
       "<matplotlib.figure.Figure at 0x10a95de48>"
      ]
     },
     "metadata": {},
     "output_type": "display_data"
    }
   ],
   "source": [
    "relativeD_Error=[d_bar_measured_corrected[i]/d_HU_corrected[i]-1 for i in range(len(d_HU_corrected))]\n",
    "\n",
    "plt.plot(z,relativeD_Error,'k-', label='Relative Distance Epoch-Corrected Error')\n",
    "plt.xlabel('RedShift z')\n",
    "plt.ylabel('Relative Error as a Fraction of distance')\n",
    "plt.title('z vs Distance error')\n",
    "plt.grid(True)\n",
    "\n",
    "legend = plt.legend(loc='upper left', shadow=True, fontsize='small')\n",
    "\n",
    "# Put a nicer background color on the legend.\n",
    "legend.get_frame().set_facecolor('#00FFCC')\n",
    "plt.ylim(-0.6,0.6)\n",
    "plt.xlim(0,1.5)\n",
    "plt.savefig(\"img/variance.png\")\n",
    "plt.show()"
   ]
  },
  {
   "cell_type": "code",
   "execution_count": 14,
   "metadata": {
    "collapsed": false,
    "nbpresent": {
     "id": "f4e61a00-e880-46ee-b97b-cb49d0097aed"
    }
   },
   "outputs": [
    {
     "data": {
      "image/png": "[encoded data removed]",
      "text/plain": [
       "<matplotlib.figure.Figure at 0x10ab0f828>"
      ]
     },
     "metadata": {},
     "output_type": "display_data"
    }
   ],
   "source": [
    "plt.semilogy(z,d_bar_measured_corrected,'k-', label='Epoch-Corrected Distance ')\n",
    "plt.semilogy(z,d_HU_corrected,'k-', label='HU Distance Prediction')\n",
    "\n",
    "plt.xlabel('RedShift z')\n",
    "plt.ylabel('Fractional Distance (fraction of R0)')\n",
    "plt.title('z vs Distance for Supernova Survey Data')\n",
    "plt.grid(True)\n",
    "\n",
    "legend = plt.legend(loc='lower right', shadow=True, fontsize='small')\n",
    "\n",
    "# Put a nicer background color on the legend.\n",
    "legend.get_frame().set_facecolor('#00FFCC')\n",
    "plt.ylim(0,1)\n",
    "plt.xlim(0,1.4)\n",
    "plt.savefig(\"img/comparison.png\")\n",
    "plt.show()"
   ]
  },
  {
   "cell_type": "code",
   "execution_count": 15,
   "metadata": {
    "collapsed": false,
    "nbpresent": {
     "id": "6df3399a-0fec-4b24-bce0-615e9417be8d"
    }
   },
   "outputs": [
    {
     "data": {
      "text/plain": [
       "Power_divergenceResult(statistic=-5691.7731294886398, pvalue=1.0)"
      ]
     },
     "execution_count": 15,
     "metadata": {},
     "output_type": "execute_result"
    }
   ],
   "source": [
    "chisquare(relativeD_Error)"
   ]
  },
  {
   "cell_type": "markdown",
   "metadata": {
    "nbpresent": {
     "id": "b6f0a862-9dba-4e55-a579-03582a868654"
    }
   },
   "source": [
    "The best fitting R0 for the Supernova dataset is for H0=72, that corresponds to R0=13.58.  The best for CMB is R0=14.43, so there is a difference of 0.85 Billion Light Years difference between these two measurements!!!"
   ]
  },
  {
   "cell_type": "code",
   "execution_count": 16,
   "metadata": {
    "collapsed": false,
    "nbpresent": {
     "id": "0ccaefcc-2e69-4af9-a1cb-3900331454ee"
    }
   },
   "outputs": [
    {
     "data": {
      "text/plain": [
       "Power_divergenceResult(statistic=2.6425406840687518, pvalue=1.0)"
      ]
     },
     "execution_count": 16,
     "metadata": {},
     "output_type": "execute_result"
    }
   ],
   "source": [
    "chisquare(d_HU_corrected, d_bar_measured_corrected)"
   ]
  },
  {
   "cell_type": "code",
   "execution_count": 17,
   "metadata": {
    "collapsed": false,
    "nbpresent": {
     "id": "412d30ea-5fdf-41ba-9e97-50c9d2120b72"
    }
   },
   "outputs": [
    {
     "name": "stdout",
     "output_type": "stream",
     "text": [
      "72.0 km / (mpc s) 13.580447523237893 lyr 14.43448806721477 lyr 0.8540405439768772 lyr\n"
     ]
    }
   ],
   "source": [
    "print(H0_saved,R0_GLY,R0_GLY_CMB, R0Diff)"
   ]
  }
 ],
 "metadata": {
  "anaconda-cloud": {},
  "kernelspec": {
   "display_name": "Python [snow35]",
   "language": "python",
   "name": "Python [snow35]"
  },
  "language_info": {
   "codemirror_mode": {
    "name": "ipython",
    "version": 3
   },
   "file_extension": ".py",
   "mimetype": "text/x-python",
   "name": "python",
   "nbconvert_exporter": "python",
   "pygments_lexer": "ipython3",
   "version": "3.5.2"
  },
  "nbpresent": {
   "slides": {
    "00969bff-f55e-49bb-9ece-24a55ffe3fef": {
     "id": "00969bff-f55e-49bb-9ece-24a55ffe3fef",
     "prev": "8d568783-c171-4ca8-a5c6-e3a6e85e8a52",
     "regions": {
      "a7a7643b-1dcb-4d16-94a3-696f1f350ae3": {
       "attrs": {
        "height": 0.8,
        "width": 0.8,
        "x": 0.1,
        "y": 0.1
       },
       "content": {
        "cell": "ffdfed9f-299d-4b9a-973a-7fb1f268f151",
        "part": "whole"
       },
       "id": "a7a7643b-1dcb-4d16-94a3-696f1f350ae3"
      }
     }
    },
    "02880513-8ced-407c-be8c-645a4edd8510": {
     "id": "02880513-8ced-407c-be8c-645a4edd8510",
     "prev": "bc350a74-7c17-4049-bf4f-8abf38aec7a5",
     "regions": {
      "d8e3bc69-2fbc-4ee1-bdf7-a555c958ffdc": {
       "attrs": {
        "height": 0.8,
        "width": 0.8,
        "x": 0.1,
        "y": 0.1
       },
       "content": {
        "cell": "7281eea7-35a3-4544-8cf0-698613004dbd",
        "part": "whole"
       },
       "id": "d8e3bc69-2fbc-4ee1-bdf7-a555c958ffdc"
      }
     }
    },
    "02c1c518-39f0-42aa-b5b4-c0219b6d0007": {
     "id": "02c1c518-39f0-42aa-b5b4-c0219b6d0007",
     "prev": "f78d33ef-849b-4fc8-b23c-8d1e18dd47e0",
     "regions": {
      "b78fe182-e53f-48ef-ba1f-fbebecffc130": {
       "attrs": {
        "height": 0.8,
        "width": 0.8808383233532935,
        "x": 0.024151696606786358,
        "y": 0.139033045021069
       },
       "content": {
        "cell": "c0414f56-f596-473b-b34b-3ec067adfbee",
        "part": "whole"
       },
       "id": "b78fe182-e53f-48ef-ba1f-fbebecffc130"
      }
     }
    },
    "07a54488-82b0-48ee-a81f-b1e4539a3646": {
     "id": "07a54488-82b0-48ee-a81f-b1e4539a3646",
     "prev": "87bf93ba-7aff-4271-86ef-f1fb4888fe7d",
     "regions": {
      "5d7badb9-cd2b-49c9-b8be-84d72f2b1fed": {
       "attrs": {
        "height": 0.8,
        "width": 0.8,
        "x": 0.1,
        "y": 0.1
       },
       "content": {
        "cell": "6df3399a-0fec-4b24-bce0-615e9417be8d",
        "part": "whole"
       },
       "id": "5d7badb9-cd2b-49c9-b8be-84d72f2b1fed"
      }
     }
    },
    "0cec1a69-90d1-4625-b886-0f3f1be62073": {
     "id": "0cec1a69-90d1-4625-b886-0f3f1be62073",
     "prev": "07a54488-82b0-48ee-a81f-b1e4539a3646",
     "regions": {
      "ea0433d1-1279-468a-9db7-4c82325abfa3": {
       "attrs": {
        "height": 0.8,
        "width": 0.8,
        "x": 0.1,
        "y": 0.1
       },
       "content": {
        "cell": "b6f0a862-9dba-4e55-a579-03582a868654",
        "part": "whole"
       },
       "id": "ea0433d1-1279-468a-9db7-4c82325abfa3"
      }
     }
    },
    "236e1f7c-163d-4bb2-b502-32a241f58e0b": {
     "id": "236e1f7c-163d-4bb2-b502-32a241f58e0b",
     "prev": "63483f36-dc9a-4402-a477-ca087526ec1f",
     "regions": {
      "eecd8d0e-a95d-4519-a481-fe93253094cb": {
       "attrs": {
        "height": 0.8,
        "width": 0.8,
        "x": 0.1,
        "y": 0.1
       },
       "content": {
        "cell": "2482d190-2878-44b4-a28f-1f5375d97d41",
        "part": "whole"
       },
       "id": "eecd8d0e-a95d-4519-a481-fe93253094cb"
      }
     }
    },
    "30ee22ec-8254-43ac-a048-4c6c6946ed4f": {
     "id": "30ee22ec-8254-43ac-a048-4c6c6946ed4f",
     "prev": "02880513-8ced-407c-be8c-645a4edd8510",
     "regions": {
      "94b0fd80-8a90-42b8-9719-c576e51125e9": {
       "attrs": {
        "height": 0.8,
        "width": 0.8,
        "x": 0.1,
        "y": 0.1
       },
       "content": {
        "cell": "69f20c4d-fa6f-4fa7-857f-c151bb5f5eb8",
        "part": "whole"
       },
       "id": "94b0fd80-8a90-42b8-9719-c576e51125e9"
      }
     }
    },
    "3efa1ef6-c1ac-4e56-a859-912c533ac75d": {
     "id": "3efa1ef6-c1ac-4e56-a859-912c533ac75d",
     "prev": "c36312a4-0ac3-42be-bb26-394605386001",
     "regions": {
      "b33d63a6-d544-438c-8d26-21b5907c2450": {
       "attrs": {
        "height": 0.8,
        "width": 0.8,
        "x": 0.1,
        "y": 0.1
       },
       "content": {
        "cell": "412d30ea-5fdf-41ba-9e97-50c9d2120b72",
        "part": "whole"
       },
       "id": "b33d63a6-d544-438c-8d26-21b5907c2450"
      }
     }
    },
    "4135f08c-5e27-40c1-89cd-29e9442066dd": {
     "id": "4135f08c-5e27-40c1-89cd-29e9442066dd",
     "prev": "85da8c40-d691-42c1-a088-9a73bfc0b87f",
     "regions": {
      "1b626516-03e9-40c8-9932-7f5c0766a410": {
       "attrs": {
        "height": 0.8,
        "width": 0.8,
        "x": 0.1,
        "y": 0.1
       },
       "content": {
        "cell": "d395cbbb-ffde-4b9f-a2b5-acfeb8303524",
        "part": "whole"
       },
       "id": "1b626516-03e9-40c8-9932-7f5c0766a410"
      }
     }
    },
    "51ab9c28-f6df-4b28-8797-a1182775bb42": {
     "id": "51ab9c28-f6df-4b28-8797-a1182775bb42",
     "prev": "236e1f7c-163d-4bb2-b502-32a241f58e0b",
     "regions": {
      "7264f529-8f61-4600-be63-e6538324537a": {
       "attrs": {
        "height": 0.8,
        "width": 0.8,
        "x": 0.1,
        "y": 0.1
       },
       "content": {
        "cell": "20902759-f555-4e60-ac82-97cb66ed5eb7",
        "part": "whole"
       },
       "id": "7264f529-8f61-4600-be63-e6538324537a"
      }
     }
    },
    "5c88b779-d2d9-495c-b27c-cbbbc224340c": {
     "id": "5c88b779-d2d9-495c-b27c-cbbbc224340c",
     "prev": "5df02324-25d4-4aca-afe1-60857ff2d476",
     "regions": {
      "bfafd00f-75ff-4fe0-b2ef-a8f2b7820e85": {
       "attrs": {
        "height": 0.8,
        "width": 0.8,
        "x": 0.1,
        "y": 0.1
       },
       "content": {
        "cell": "f630ab50-d910-4aa7-a57f-9fb5adf309e6",
        "part": "whole"
       },
       "id": "bfafd00f-75ff-4fe0-b2ef-a8f2b7820e85"
      }
     }
    },
    "5df02324-25d4-4aca-afe1-60857ff2d476": {
     "id": "5df02324-25d4-4aca-afe1-60857ff2d476",
     "prev": "9afa47d0-1b7d-4b26-bb3a-391a9e048c1e",
     "regions": {
      "0efba599-1de8-46a9-a3d8-60b7b336676f": {
       "attrs": {
        "height": 0.8,
        "width": 0.8,
        "x": 0.1,
        "y": 0.1
       },
       "content": {
        "cell": "30973531-10ee-4040-a257-e152ba339cd7",
        "part": "whole"
       },
       "id": "0efba599-1de8-46a9-a3d8-60b7b336676f"
      }
     }
    },
    "63483f36-dc9a-4402-a477-ca087526ec1f": {
     "id": "63483f36-dc9a-4402-a477-ca087526ec1f",
     "prev": "5c88b779-d2d9-495c-b27c-cbbbc224340c",
     "regions": {
      "af17505b-9c43-49e8-bc1b-b1b846e94c1e": {
       "attrs": {
        "height": 0.8,
        "width": 0.8,
        "x": 0.1,
        "y": 0.1
       },
       "content": {
        "cell": "e8aef617-b3cf-4603-a565-d6dcb968ec80",
        "part": "whole"
       },
       "id": "af17505b-9c43-49e8-bc1b-b1b846e94c1e"
      }
     }
    },
    "85da8c40-d691-42c1-a088-9a73bfc0b87f": {
     "id": "85da8c40-d691-42c1-a088-9a73bfc0b87f",
     "prev": null,
     "regions": {
      "493dbc08-7e64-4ace-b850-ed0e342df7fa": {
       "attrs": {
        "height": 0.8,
        "width": 0.8,
        "x": 0.1,
        "y": 0.1
       },
       "content": {
        "cell": "755d91dd-3d69-4604-be3d-b84ead2091d1",
        "part": "whole"
       },
       "id": "493dbc08-7e64-4ace-b850-ed0e342df7fa"
      }
     }
    },
    "87bf93ba-7aff-4271-86ef-f1fb4888fe7d": {
     "id": "87bf93ba-7aff-4271-86ef-f1fb4888fe7d",
     "prev": "00969bff-f55e-49bb-9ece-24a55ffe3fef",
     "regions": {
      "23f662ce-7a94-4539-a483-fe485e4f6860": {
       "attrs": {
        "height": 0.8,
        "width": 0.8,
        "x": 0.1,
        "y": 0.1
       },
       "content": {
        "cell": "f4e61a00-e880-46ee-b97b-cb49d0097aed",
        "part": "whole"
       },
       "id": "23f662ce-7a94-4539-a483-fe485e4f6860"
      }
     }
    },
    "8d568783-c171-4ca8-a5c6-e3a6e85e8a52": {
     "id": "8d568783-c171-4ca8-a5c6-e3a6e85e8a52",
     "prev": "30ee22ec-8254-43ac-a048-4c6c6946ed4f",
     "regions": {
      "4080a673-5a59-421b-ad17-9c692674a120": {
       "attrs": {
        "height": 0.8,
        "width": 0.8,
        "x": 0.1,
        "y": 0.1
       },
       "content": {
        "cell": "1da8d676-084d-4f6d-8b2c-0a3fac2d885e",
        "part": "whole"
       },
       "id": "4080a673-5a59-421b-ad17-9c692674a120"
      }
     }
    },
    "9afa47d0-1b7d-4b26-bb3a-391a9e048c1e": {
     "id": "9afa47d0-1b7d-4b26-bb3a-391a9e048c1e",
     "prev": "4135f08c-5e27-40c1-89cd-29e9442066dd",
     "regions": {
      "dc42d24e-a634-4312-8c3a-f7d227a80fb7": {
       "attrs": {
        "height": 0.8,
        "width": 0.8,
        "x": 0.1,
        "y": 0.1
       },
       "content": {
        "cell": "2ab0a58d-03c1-4ae3-8f04-6ed5d589ef69",
        "part": "whole"
       },
       "id": "dc42d24e-a634-4312-8c3a-f7d227a80fb7"
      }
     }
    },
    "bc350a74-7c17-4049-bf4f-8abf38aec7a5": {
     "id": "bc350a74-7c17-4049-bf4f-8abf38aec7a5",
     "prev": "02c1c518-39f0-42aa-b5b4-c0219b6d0007",
     "regions": {
      "05ccb65f-d452-4ca0-a833-c70d070e7266": {
       "attrs": {
        "height": 0.8,
        "width": 0.8,
        "x": 0.1,
        "y": 0.1
       },
       "content": {
        "cell": "73e372ac-d371-4e68-9c38-9e8efa5425c3",
        "part": "whole"
       },
       "id": "05ccb65f-d452-4ca0-a833-c70d070e7266"
      }
     }
    },
    "c36312a4-0ac3-42be-bb26-394605386001": {
     "id": "c36312a4-0ac3-42be-bb26-394605386001",
     "prev": "e81ab897-c8a5-496e-8d88-82a6e96e90dc",
     "regions": {
      "610bdd1b-991c-4c45-9313-420387789c07": {
       "attrs": {
        "height": 0.8,
        "width": 0.8,
        "x": 0.1,
        "y": 0.1
       },
       "content": {
        "cell": "0ccaefcc-2e69-4af9-a1cb-3900331454ee",
        "part": "whole"
       },
       "id": "610bdd1b-991c-4c45-9313-420387789c07"
      }
     }
    },
    "e81ab897-c8a5-496e-8d88-82a6e96e90dc": {
     "id": "e81ab897-c8a5-496e-8d88-82a6e96e90dc",
     "prev": "0cec1a69-90d1-4625-b886-0f3f1be62073",
     "regions": {
      "0e8210b6-0f2a-4e68-a032-de4cd6e4eabd": {
       "attrs": {
        "height": 0.8,
        "width": 0.8,
        "x": 0.1,
        "y": 0.1
       },
       "content": {
        "cell": "bcd73c6d-4840-48c6-ae76-7680c9d75058",
        "part": "whole"
       },
       "id": "0e8210b6-0f2a-4e68-a032-de4cd6e4eabd"
      }
     }
    },
    "f78d33ef-849b-4fc8-b23c-8d1e18dd47e0": {
     "id": "f78d33ef-849b-4fc8-b23c-8d1e18dd47e0",
     "prev": "51ab9c28-f6df-4b28-8797-a1182775bb42",
     "regions": {
      "04ac58df-7a18-427f-b5f2-dec6d315dce5": {
       "attrs": {
        "height": 0.8,
        "width": 0.8,
        "x": 0.1,
        "y": 0.1
       },
       "content": {
        "cell": "e1cf92b5-0ece-4503-bca2-a75356841cc0",
        "part": "whole"
       },
       "id": "04ac58df-7a18-427f-b5f2-dec6d315dce5"
      }
     }
    }
   },
   "themes": {}
  }
 },
 "nbformat": 4,
 "nbformat_minor": 0
}
